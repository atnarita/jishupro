{
 "cells": [
  {
   "cell_type": "markdown",
   "metadata": {
    "id": "0wA7UFI__ICO"
   },
   "source": [
    "## 各種ライブラリをインポート"
   ]
  },
  {
   "cell_type": "code",
   "execution_count": 3,
   "metadata": {
    "executionInfo": {
     "elapsed": 851,
     "status": "ok",
     "timestamp": 1608180171807,
     "user": {
      "displayName": "Atsushi Narita",
      "photoUrl": "",
      "userId": "16280443261260851131"
     },
     "user_tz": -540
    },
    "id": "s7bR7rBV_ICO"
   },
   "outputs": [],
   "source": [
    "import numpy as np\n",
    "# from keras import backend as K\n",
    "import matplotlib.pyplot as plt\n",
    "%matplotlib inline\n",
    "import random\n",
    "import math"
   ]
  },
  {
   "cell_type": "code",
   "execution_count": 4,
   "metadata": {
    "colab": {
     "base_uri": "https://localhost:8080/"
    },
    "executionInfo": {
     "elapsed": 879,
     "status": "ok",
     "timestamp": 1608180172153,
     "user": {
      "displayName": "Atsushi Narita",
      "photoUrl": "",
      "userId": "16280443261260851131"
     },
     "user_tz": -540
    },
    "id": "G2T5mDug_ICQ",
    "outputId": "610de4bc-7113-43fc-8fb2-64cf90018b9e",
    "scrolled": true
   },
   "outputs": [
    {
     "name": "stdout",
     "output_type": "stream",
     "text": [
      "(12, 90)\n",
      "[[-0.04454545 -0.04454545 -0.04454545 ... -0.04454545  0.\n",
      "   0.        ]\n",
      " [ 0.         -0.04454545  0.         ... -0.04454545 -0.04454545\n",
      "   0.        ]\n",
      " [-0.04454545 -0.17818181  0.         ... -0.13363637 -0.4009091\n",
      "  -0.5790909 ]\n",
      " ...\n",
      " [ 0.5345455  -5.8354545   0.08909091 ... -0.08909091  0.5345455\n",
      "  -0.71272725]\n",
      " [-0.44545454  0.62363636 -0.08909091 ... -2.7618182   1.1581818\n",
      "  -1.2027273 ]\n",
      " [-1.4254545   1.0245454  -0.49       ... -0.93545455  0.5790909\n",
      "   0.08909091]]\n",
      "(12,)\n",
      "[ 0.  2. -1.  1.  2.  0.  2.  3.  0.  1.  2.  0.]\n"
     ]
    }
   ],
   "source": [
    "# データをロード\n",
    "training_acc = np.array(np.loadtxt('data/training_acc.txt', dtype='float32'))\n",
    "training_dis = np.array(np.loadtxt('data/training_dis.txt', dtype='float32'))\n",
    "\n",
    "print(training_acc.shape)\n",
    "print(training_acc)\n",
    "print(training_dis.shape)\n",
    "print(training_dis)"
   ]
  },
  {
   "cell_type": "markdown",
   "metadata": {
    "id": "rdPRHaRx_ICS"
   },
   "source": [
    "## 活性化関数の定義\n",
    "### sigmoid, softmax, tanh関数とそれらの微分を宣言している。"
   ]
  },
  {
   "cell_type": "code",
   "execution_count": 5,
   "metadata": {
    "executionInfo": {
     "elapsed": 785,
     "status": "ok",
     "timestamp": 1608180174687,
     "user": {
      "displayName": "Atsushi Narita",
      "photoUrl": "",
      "userId": "16280443261260851131"
     },
     "user_tz": -540
    },
    "id": "VhDYrLwp_ICS"
   },
   "outputs": [],
   "source": [
    "# sigmoid function\n",
    "def sigmoid(x):\n",
    "    return 1/ (1 + np.exp(-x))\n",
    "\n",
    "# derivative of sigmoid function\n",
    "def sigmoid_prime(x):\n",
    "    return sigmoid(x) * (1 - sigmoid(x))\n",
    "\n",
    "# softmax function\n",
    "def softmax(x):\n",
    "    return np.exp(x) / np.sum(np.exp(x), axis=0)\n",
    "\n",
    "# derivative of softmax function\n",
    "def softmax_prime(x):\n",
    "    return softmax(x) * (1 - softmax(x))\n",
    "\n",
    "# tanh function\n",
    "def tanh(x):\n",
    "  return (np.exp(x)-np.exp(-x)) / (np.exp(x)+np.exp(-x))\n",
    "\n",
    "def tanh_prime(x):\n",
    "  return 4 / (np.exp(x)+np.exp(-x))**2"
   ]
  },
  {
   "cell_type": "markdown",
   "metadata": {
    "id": "gORmMiMT_ICS"
   },
   "source": [
    "## Layerの定義\n",
    "### 初期層、中間層、出力層でクラスが分けられているが全てにおいて、<br>layer = *_layer(入力次元数, 出力次元数, 学習率（指定しないと0.03）)のように宣言する。<br>逆伝播、順伝播の場合はそれぞれlayer.forward(...)、layer.backward(...)のようにする。"
   ]
  },
  {
   "cell_type": "code",
   "execution_count": 6,
   "metadata": {
    "executionInfo": {
     "elapsed": 651,
     "status": "ok",
     "timestamp": 1608180226031,
     "user": {
      "displayName": "Atsushi Narita",
      "photoUrl": "",
      "userId": "16280443261260851131"
     },
     "user_tz": -540
    },
    "id": "VacjdgkN_ICT"
   },
   "outputs": [],
   "source": [
    "######################################最初の層についてのクラス###########################################\n",
    "class start_layer(object):\n",
    "    # initation\n",
    "    def  __init__(self, input_dim, output_dim, learning_rate=0.03):\n",
    "        self.input_dim = input_dim # 入力次元\n",
    "        self.output_dim = output_dim #出力次元\n",
    "        self.learning_rate = learning_rate #学習率(0.005 ~ 0.1)\n",
    "        self.weight = np.random.normal(np.sqrt(1.0/input_dim), size=(output_dim, input_dim)).astype(np.float32) #重みを決定\n",
    "        self.bias = np.zeros((1, output_dim), dtype=np.float32) #バイアス項\n",
    "        \n",
    "    # 順伝播\n",
    "    def forward(self,x):\n",
    "        # x_h ... input_dim次元の(縦)ベクトル\n",
    "        self.input_x = np.array(x).reshape(self.input_dim)\n",
    "        \n",
    "        # u_i ... output_dim次元の(縦)ベクトルを出力\n",
    "        self.output_u = (np.dot(self.weight, self.input_x)).reshape(self.output_dim) \n",
    "        \n",
    "        # x_i ... output_dim次元の(縦)ベクトルを出力 (tanhを作用させる)\n",
    "        self.output_x = tanh(self.output_u).reshape(self.output_dim)\n",
    "        \n",
    "        # u_i が 出力\n",
    "        return self.output_u\n",
    "    \n",
    "    # 逆伝播\n",
    "    def backward(self,delta):# delta = δ_i\n",
    "        # W = W - η .* (δ_i * x_h.T) ... (output_dim　×　nput_dim)次元の配列\n",
    "        self.weight = self.weight - self.learning_rate * np.dot(delta.reshape(self.output_dim,1), self.input_x.reshape(1, self.input_dim))\n",
    "        return\n",
    " #################################################################################################\n",
    "\n",
    "\n",
    "######################################  中間層についてのクラス  ###########################################\n",
    "class mid_layer(object):\n",
    "    # initation\n",
    "    def  __init__(self, input_dim, output_dim, learning_rate=0.03):\n",
    "        self.input_dim = input_dim # 入力次元\n",
    "        self.output_dim = output_dim #出力次元\n",
    "        self.learning_rate = learning_rate #学習率(0.005 ~ 0.1)\n",
    "        self.weight = np.random.normal(np.sqrt(1.0/input_dim), size=(output_dim, input_dim)).astype(np.float32) #重みを決定\n",
    "        self.bias = np.zeros((1, output_dim), dtype=np.float32) #バイアス項\n",
    "        \n",
    "    # 順伝播   \n",
    "    def forward(self,u):# u = u_i\n",
    "        \n",
    "        # u_i ... input_dim次元の(縦)ベクトル\n",
    "        self.input_u = np.array(u).reshape(self.input_dim)\n",
    "        \n",
    "        # x_i ... input_dim次元の(縦)ベクトル\n",
    "        self.input_x = tanh(self.input_u).reshape(self.input_dim) \n",
    "        \n",
    "        # u_j ... output_dim次元の(縦)ベクトルを出力\n",
    "        self.output_u = (np.dot(self.weight, self.input_x)).reshape(self.output_dim)\n",
    "        \n",
    "        # x_j ... output_dim次元の(縦)ベクトルを出力\n",
    "        self.output_x = tanh(self.output_u).reshape(self.output_dim)\n",
    "        \n",
    "        # u_j が 出力\n",
    "        return self.output_u\n",
    "    \n",
    "    # 逆伝播\n",
    "    def backward(self, delta):# delta = δ_j\n",
    "        \n",
    "        # W = W - η .* (δ_j * x_i.T) ... (output_dim　×　nput_dim)次元の配列\n",
    "        self.weight = self.weight - self.learning_rate * np.dot(delta.reshape(self.output_dim,1), self.input_x.reshape(1, self.input_dim))\n",
    "        \n",
    "        # δ_i = (W_ji.T *  δ_j) .* f'(u_i) ... input_dim次元の(縦)ベクトル\n",
    "        return (np.dot(self.weight.T, delta) * tanh_prime(self.input_u)).reshape(self.input_dim)\n",
    "#################################################################################################\n",
    "\n",
    "    \n",
    "######################################  中間層についてのクラス  ###########################################    \n",
    "class last_layer(object):\n",
    "    \n",
    "    def  __init__(self, input_dim, output_dim, learning_rate=0.03):\n",
    "        self.input_dim = input_dim # 入力次元\n",
    "        self.output_dim = output_dim#出力次元\n",
    "        self.learning_rate = learning_rate #学習率(0.005 ~ 0.1)\n",
    "        self.weight = np.random.normal(np.sqrt(1.0/input_dim), size=(output_dim, input_dim)).astype(np.float32) #重みを決定\n",
    "        self.bias = np.zeros((1, output_dim), dtype=np.float32) #バイアス項\n",
    "        \n",
    "    # 順伝播    \n",
    "    def forward(self,u):# u = u_j\n",
    "        \n",
    "        # u_j ... input_dim次元の(縦)ベクトル\n",
    "        self.input_u = np.array(u).reshape(self.input_dim) \n",
    "        \n",
    "        # x_j ... input_dim次元の(縦)ベクトル\n",
    "        self.input_x = tanh(self.input_u).reshape(self.input_dim)\n",
    "        \n",
    "        # u_k ... output_dim次元の(縦)ベクトルを出力\n",
    "        self.output_u = (np.dot(self.weight, self.input_x)).reshape(self.output_dim)\n",
    "        \n",
    "        # x_k ... output_dim次元の(縦)ベクトルを出力\n",
    "        self.output_x = tanh(self.output_u).reshape(self.output_dim)\n",
    "        \n",
    "        # x_k が最終結果\n",
    "        return self.output_x\n",
    "    \n",
    "    # 逆伝播\n",
    "    def backward(self,loss):# loss = y - y^p\n",
    "        \n",
    "        # δ_k = loss * f'(u_k) ... output_dim次元の(縦)ベクトルを出力\n",
    "        self.delta = (loss * tanh_prime(self.output_u)).reshape(self.output_dim)\n",
    "        \n",
    "        # W = W - η .* (δ_k * x_j.T) ... (output_dim　×　nput_dim)次元の配列\n",
    "        self.weight = self.weight - self.learning_rate * np.dot(self.delta.reshape(self.output_dim,1), self.input_x.reshape(1,self.input_dim))\n",
    "        #print(\"gradient = {}\".format(np.dot(self.delta.reshape(self.output_dim,1), self.input_x.reshape(1,self.input_dim))))\n",
    "        \n",
    "        #  δ_j = (W_kj.T *  δ_k) .* f'(u_j) ... input_dim次元の(縦)ベクトル\n",
    "        return ( np.dot(self.weight.T, self.delta) * tanh_prime(self.input_u) ).reshape(self.input_dim)\n",
    "#################################################################################################"
   ]
  },
  {
   "cell_type": "markdown",
   "metadata": {
    "id": "E5MACUh9_ICW"
   },
   "source": [
    "## 3層用ニューラルネットの定義"
   ]
  },
  {
   "cell_type": "code",
   "execution_count": 7,
   "metadata": {
    "executionInfo": {
     "elapsed": 720,
     "status": "ok",
     "timestamp": 1608180227119,
     "user": {
      "displayName": "Atsushi Narita",
      "photoUrl": "",
      "userId": "16280443261260851131"
     },
     "user_tz": -540
    },
    "id": "0fvWDFjR_ICW"
   },
   "outputs": [],
   "source": [
    "def nn_3(first_layer=90, second_layer=60, third_layer=1, learning_rate=0.005, epoch_number=200, train_number=500, test_number = 100):\n",
    "    lay_1 = start_layer(first_layer, second_layer, learning_rate)\n",
    "    lay_2 = last_layer(second_layer, third_layer, learning_rate)\n",
    "\n",
    "    np.set_printoptions(precision=3)\n",
    "    accuracy_list = []\n",
    "    epoch_list = []\n",
    "    loop = 0\n",
    "    epoch_number = epoch_number#200\n",
    "    train_number = train_number#500\n",
    "    test_number = test_number#100\n",
    "\n",
    "    for epoch in range(0,epoch_number): \n",
    "        for i in range(0,train_number):\n",
    "            random_train_index = random.randint(0,training_acc.shape[0]-1)\n",
    "            #順伝播\n",
    "            output = lay_1.forward(training_acc[random_train_index].reshape(first_layer))\n",
    "            output = lay_2.forward(output)\n",
    "\n",
    "            #逆伝播\n",
    "            correct_answer = training_dis[random_train_index]\n",
    "            loss = output - correct_answer/5\n",
    "            delta = lay_2.backward(loss)\n",
    "            delta = lay_1.backward(delta)\n",
    "\n",
    "        #テストデータで正答率をチェック\n",
    "        count = 0\n",
    "        for j in range(0,test_number):\n",
    "            random_test_index = random.randint(0,training_acc.shape[0]-1)\n",
    "            output = lay_1.forward(training_acc[random_test_index].reshape(first_layer))\n",
    "            output = lay_2.forward(output)\n",
    "    \n",
    "            #print(\"output = {}\".format(output))\n",
    "            #print(\"prediction = {} <---> test_labels = {}.\".format(np.argmax(output), test_labels[random_test_index]))\n",
    "\n",
    "            count += int(training_dis[random_test_index] - 5 * output)\n",
    "\n",
    "        loop += 1\n",
    "        #print(\"#\",end=\"\")\n",
    "        print(\"\\t{:2.0f} / {} finished.  accuracy = {:2.5f}\".format(loop, epoch_number, count/test_number))\n",
    "        epoch_list.append(epoch)\n",
    "        accuracy_list.append(count/test_number)\n",
    "\n",
    "    print(\"\\t finished\")\n",
    "    return epoch_list, accuracy_list, lay_1, lay_2"
   ]
  },
  {
   "cell_type": "code",
   "execution_count": 8,
   "metadata": {
    "colab": {
     "base_uri": "https://localhost:8080/"
    },
    "executionInfo": {
     "elapsed": 10428,
     "status": "ok",
     "timestamp": 1608180238001,
     "user": {
      "displayName": "Atsushi Narita",
      "photoUrl": "",
      "userId": "16280443261260851131"
     },
     "user_tz": -540
    },
    "id": "Vn8E3oAK_ICX",
    "outputId": "59855490-7e56-4cc3-85ef-0181a1ebb4ef"
   },
   "outputs": [
    {
     "name": "stdout",
     "output_type": "stream",
     "text": [
      "\t 1 / 200 finished.  accuracy = 0.89000\n",
      "\t 2 / 200 finished.  accuracy = 0.82000\n",
      "\t 3 / 200 finished.  accuracy = 0.19000\n",
      "\t 4 / 200 finished.  accuracy = 0.57000\n",
      "\t 5 / 200 finished.  accuracy = 0.61000\n",
      "\t 6 / 200 finished.  accuracy = 1.14000\n",
      "\t 7 / 200 finished.  accuracy = 0.96000\n",
      "\t 8 / 200 finished.  accuracy = 1.05000\n",
      "\t 9 / 200 finished.  accuracy = 0.95000\n",
      "\t10 / 200 finished.  accuracy = 1.36000\n",
      "\t11 / 200 finished.  accuracy = 1.24000\n",
      "\t12 / 200 finished.  accuracy = 1.11000\n",
      "\t13 / 200 finished.  accuracy = 0.84000\n",
      "\t14 / 200 finished.  accuracy = 0.15000\n",
      "\t15 / 200 finished.  accuracy = 0.35000\n",
      "\t16 / 200 finished.  accuracy = 0.05000\n",
      "\t17 / 200 finished.  accuracy = -0.08000\n",
      "\t18 / 200 finished.  accuracy = -0.16000\n",
      "\t19 / 200 finished.  accuracy = 0.05000\n",
      "\t20 / 200 finished.  accuracy = 0.10000\n",
      "\t21 / 200 finished.  accuracy = -0.09000\n",
      "\t22 / 200 finished.  accuracy = 0.03000\n",
      "\t23 / 200 finished.  accuracy = 0.02000\n",
      "\t24 / 200 finished.  accuracy = -0.08000\n",
      "\t25 / 200 finished.  accuracy = 0.24000\n",
      "\t26 / 200 finished.  accuracy = -0.09000\n",
      "\t27 / 200 finished.  accuracy = -0.28000\n",
      "\t28 / 200 finished.  accuracy = -0.13000\n",
      "\t29 / 200 finished.  accuracy = 0.00000\n",
      "\t30 / 200 finished.  accuracy = -0.05000\n",
      "\t31 / 200 finished.  accuracy = 0.06000\n",
      "\t32 / 200 finished.  accuracy = -0.27000\n",
      "\t33 / 200 finished.  accuracy = -0.16000\n",
      "\t34 / 200 finished.  accuracy = 0.16000\n",
      "\t35 / 200 finished.  accuracy = 0.11000\n",
      "\t36 / 200 finished.  accuracy = 0.39000\n",
      "\t37 / 200 finished.  accuracy = 0.03000\n",
      "\t38 / 200 finished.  accuracy = -0.04000\n",
      "\t39 / 200 finished.  accuracy = 0.05000\n",
      "\t40 / 200 finished.  accuracy = -0.25000\n",
      "\t41 / 200 finished.  accuracy = -0.26000\n",
      "\t42 / 200 finished.  accuracy = -0.32000\n",
      "\t43 / 200 finished.  accuracy = -0.31000\n",
      "\t44 / 200 finished.  accuracy = -0.20000\n",
      "\t45 / 200 finished.  accuracy = -0.33000\n",
      "\t46 / 200 finished.  accuracy = -0.06000\n",
      "\t47 / 200 finished.  accuracy = -0.03000\n",
      "\t48 / 200 finished.  accuracy = -0.27000\n",
      "\t49 / 200 finished.  accuracy = -0.11000\n",
      "\t50 / 200 finished.  accuracy = -0.34000\n",
      "\t51 / 200 finished.  accuracy = -0.17000\n",
      "\t52 / 200 finished.  accuracy = -0.05000\n",
      "\t53 / 200 finished.  accuracy = 0.30000\n",
      "\t54 / 200 finished.  accuracy = 0.14000\n",
      "\t55 / 200 finished.  accuracy = -0.35000\n",
      "\t56 / 200 finished.  accuracy = 0.34000\n",
      "\t57 / 200 finished.  accuracy = -0.09000\n",
      "\t58 / 200 finished.  accuracy = 0.05000\n",
      "\t59 / 200 finished.  accuracy = -0.18000\n",
      "\t60 / 200 finished.  accuracy = -0.16000\n",
      "\t61 / 200 finished.  accuracy = -0.19000\n",
      "\t62 / 200 finished.  accuracy = -0.60000\n",
      "\t63 / 200 finished.  accuracy = -0.10000\n",
      "\t64 / 200 finished.  accuracy = -0.03000\n",
      "\t65 / 200 finished.  accuracy = -0.02000\n",
      "\t66 / 200 finished.  accuracy = 0.20000\n",
      "\t67 / 200 finished.  accuracy = -0.31000\n",
      "\t68 / 200 finished.  accuracy = -0.28000\n",
      "\t69 / 200 finished.  accuracy = 0.30000\n",
      "\t70 / 200 finished.  accuracy = -0.20000\n",
      "\t71 / 200 finished.  accuracy = -0.08000\n",
      "\t72 / 200 finished.  accuracy = -0.38000\n",
      "\t73 / 200 finished.  accuracy = 0.15000\n",
      "\t74 / 200 finished.  accuracy = -0.08000\n",
      "\t75 / 200 finished.  accuracy = 0.27000\n",
      "\t76 / 200 finished.  accuracy = 0.24000\n",
      "\t77 / 200 finished.  accuracy = -0.21000\n",
      "\t78 / 200 finished.  accuracy = -0.06000\n",
      "\t79 / 200 finished.  accuracy = 0.26000\n",
      "\t80 / 200 finished.  accuracy = -0.25000\n",
      "\t81 / 200 finished.  accuracy = -0.29000\n",
      "\t82 / 200 finished.  accuracy = -0.31000\n",
      "\t83 / 200 finished.  accuracy = -0.08000\n",
      "\t84 / 200 finished.  accuracy = 0.22000\n",
      "\t85 / 200 finished.  accuracy = -0.09000\n",
      "\t86 / 200 finished.  accuracy = -0.13000\n",
      "\t87 / 200 finished.  accuracy = 0.01000\n",
      "\t88 / 200 finished.  accuracy = -0.43000\n",
      "\t89 / 200 finished.  accuracy = 0.18000\n",
      "\t90 / 200 finished.  accuracy = -0.22000\n",
      "\t91 / 200 finished.  accuracy = -0.22000\n",
      "\t92 / 200 finished.  accuracy = -0.01000\n",
      "\t93 / 200 finished.  accuracy = -0.27000\n",
      "\t94 / 200 finished.  accuracy = -0.02000\n",
      "\t95 / 200 finished.  accuracy = -0.14000\n",
      "\t96 / 200 finished.  accuracy = -0.09000\n",
      "\t97 / 200 finished.  accuracy = -0.06000\n",
      "\t98 / 200 finished.  accuracy = -0.02000\n",
      "\t99 / 200 finished.  accuracy = 0.20000\n",
      "\t100 / 200 finished.  accuracy = 0.24000\n",
      "\t101 / 200 finished.  accuracy = -0.10000\n",
      "\t102 / 200 finished.  accuracy = -0.27000\n",
      "\t103 / 200 finished.  accuracy = 0.13000\n",
      "\t104 / 200 finished.  accuracy = -0.13000\n",
      "\t105 / 200 finished.  accuracy = -0.18000\n",
      "\t106 / 200 finished.  accuracy = -0.24000\n",
      "\t107 / 200 finished.  accuracy = -0.17000\n",
      "\t108 / 200 finished.  accuracy = -0.15000\n",
      "\t109 / 200 finished.  accuracy = -0.15000\n",
      "\t110 / 200 finished.  accuracy = 0.04000\n",
      "\t111 / 200 finished.  accuracy = -0.05000\n",
      "\t112 / 200 finished.  accuracy = 0.06000\n",
      "\t113 / 200 finished.  accuracy = -0.36000\n",
      "\t114 / 200 finished.  accuracy = -0.14000\n",
      "\t115 / 200 finished.  accuracy = -0.21000\n",
      "\t116 / 200 finished.  accuracy = 0.04000\n",
      "\t117 / 200 finished.  accuracy = -0.08000\n",
      "\t118 / 200 finished.  accuracy = 0.09000\n",
      "\t119 / 200 finished.  accuracy = 0.25000\n",
      "\t120 / 200 finished.  accuracy = -0.12000\n",
      "\t121 / 200 finished.  accuracy = -0.04000\n",
      "\t122 / 200 finished.  accuracy = 0.11000\n",
      "\t123 / 200 finished.  accuracy = -0.18000\n",
      "\t124 / 200 finished.  accuracy = -0.08000\n",
      "\t125 / 200 finished.  accuracy = -0.13000\n",
      "\t126 / 200 finished.  accuracy = 0.05000\n",
      "\t127 / 200 finished.  accuracy = -0.16000\n",
      "\t128 / 200 finished.  accuracy = 0.06000\n",
      "\t129 / 200 finished.  accuracy = -0.26000\n",
      "\t130 / 200 finished.  accuracy = -0.14000\n",
      "\t131 / 200 finished.  accuracy = -0.08000\n",
      "\t132 / 200 finished.  accuracy = -0.10000\n",
      "\t133 / 200 finished.  accuracy = 0.00000\n",
      "\t134 / 200 finished.  accuracy = -0.47000\n",
      "\t135 / 200 finished.  accuracy = 0.19000\n",
      "\t136 / 200 finished.  accuracy = -0.05000\n",
      "\t137 / 200 finished.  accuracy = 0.06000\n",
      "\t138 / 200 finished.  accuracy = -0.03000\n",
      "\t139 / 200 finished.  accuracy = -0.16000\n",
      "\t140 / 200 finished.  accuracy = 0.09000\n",
      "\t141 / 200 finished.  accuracy = 0.15000\n",
      "\t142 / 200 finished.  accuracy = -0.19000\n",
      "\t143 / 200 finished.  accuracy = 0.11000\n",
      "\t144 / 200 finished.  accuracy = -0.24000\n",
      "\t145 / 200 finished.  accuracy = 0.04000\n",
      "\t146 / 200 finished.  accuracy = -0.13000\n",
      "\t147 / 200 finished.  accuracy = -0.10000\n",
      "\t148 / 200 finished.  accuracy = -0.46000\n",
      "\t149 / 200 finished.  accuracy = 0.01000\n",
      "\t150 / 200 finished.  accuracy = -0.27000\n",
      "\t151 / 200 finished.  accuracy = -0.32000\n",
      "\t152 / 200 finished.  accuracy = -0.08000\n",
      "\t153 / 200 finished.  accuracy = -0.26000\n",
      "\t154 / 200 finished.  accuracy = -0.31000\n",
      "\t155 / 200 finished.  accuracy = 0.05000\n",
      "\t156 / 200 finished.  accuracy = -0.02000\n",
      "\t157 / 200 finished.  accuracy = -0.11000\n",
      "\t158 / 200 finished.  accuracy = -0.08000\n",
      "\t159 / 200 finished.  accuracy = -0.19000\n",
      "\t160 / 200 finished.  accuracy = -0.17000\n",
      "\t161 / 200 finished.  accuracy = -0.10000\n",
      "\t162 / 200 finished.  accuracy = -0.11000\n",
      "\t163 / 200 finished.  accuracy = 0.34000\n",
      "\t164 / 200 finished.  accuracy = -0.08000\n",
      "\t165 / 200 finished.  accuracy = 0.19000\n",
      "\t166 / 200 finished.  accuracy = -0.29000\n",
      "\t167 / 200 finished.  accuracy = -0.29000\n",
      "\t168 / 200 finished.  accuracy = -0.15000\n",
      "\t169 / 200 finished.  accuracy = -0.06000\n",
      "\t170 / 200 finished.  accuracy = -0.26000\n",
      "\t171 / 200 finished.  accuracy = -0.42000\n",
      "\t172 / 200 finished.  accuracy = -0.09000\n",
      "\t173 / 200 finished.  accuracy = 0.07000\n",
      "\t174 / 200 finished.  accuracy = -0.48000\n",
      "\t175 / 200 finished.  accuracy = -0.20000\n",
      "\t176 / 200 finished.  accuracy = -0.06000\n",
      "\t177 / 200 finished.  accuracy = 0.06000\n",
      "\t178 / 200 finished.  accuracy = -0.31000\n",
      "\t179 / 200 finished.  accuracy = -0.04000\n",
      "\t180 / 200 finished.  accuracy = 0.15000\n",
      "\t181 / 200 finished.  accuracy = -0.06000\n",
      "\t182 / 200 finished.  accuracy = -0.30000\n",
      "\t183 / 200 finished.  accuracy = 0.20000\n",
      "\t184 / 200 finished.  accuracy = 0.22000\n",
      "\t185 / 200 finished.  accuracy = 0.11000\n",
      "\t186 / 200 finished.  accuracy = 0.18000\n",
      "\t187 / 200 finished.  accuracy = 0.07000\n",
      "\t188 / 200 finished.  accuracy = 0.07000\n",
      "\t189 / 200 finished.  accuracy = -0.27000\n",
      "\t190 / 200 finished.  accuracy = -0.11000\n",
      "\t191 / 200 finished.  accuracy = -0.29000\n",
      "\t192 / 200 finished.  accuracy = -0.17000\n",
      "\t193 / 200 finished.  accuracy = -0.10000\n",
      "\t194 / 200 finished.  accuracy = -0.17000\n",
      "\t195 / 200 finished.  accuracy = -0.09000\n",
      "\t196 / 200 finished.  accuracy = -0.24000\n",
      "\t197 / 200 finished.  accuracy = -0.21000\n",
      "\t198 / 200 finished.  accuracy = 0.03000\n",
      "\t199 / 200 finished.  accuracy = -0.10000\n",
      "\t200 / 200 finished.  accuracy = -0.15000\n",
      "\t finished\n"
     ]
    }
   ],
   "source": [
    "epoch, step_diff, lay1, lay2= nn_3()"
   ]
  },
  {
   "cell_type": "code",
   "execution_count": 9,
   "metadata": {
    "colab": {
     "base_uri": "https://localhost:8080/",
     "height": 278
    },
    "executionInfo": {
     "elapsed": 853,
     "status": "ok",
     "timestamp": 1608180240424,
     "user": {
      "displayName": "Atsushi Narita",
      "photoUrl": "",
      "userId": "16280443261260851131"
     },
     "user_tz": -540
    },
    "id": "ubBDcCb6_ICX",
    "outputId": "926e529c-d606-4f3c-edee-7be421b8bc74"
   },
   "outputs": [
    {
     "data": {
      "image/png": "[encoded data removed]",
      "text/plain": [
       "<Figure size 432x288 with 1 Axes>"
      ]
     },
     "metadata": {
      "needs_background": "light"
     },
     "output_type": "display_data"
    }
   ],
   "source": [
    "plt.plot(epoch, step_diff,label=\"3_layer\")\n",
    "\n",
    "plt.xlabel(\"epoch time\")\n",
    "plt.ylabel(\"step_diff\")\n",
    "plt.legend()\n",
    "plt.show()\n",
    "#plt.savefig(\"../report/5-2-1.png\")"
   ]
  },
  {
   "cell_type": "code",
   "execution_count": 11,
   "metadata": {
    "executionInfo": {
     "elapsed": 596,
     "status": "ok",
     "timestamp": 1608180252590,
     "user": {
      "displayName": "Atsushi Narita",
      "photoUrl": "",
      "userId": "16280443261260851131"
     },
     "user_tz": -540
    },
    "id": "02tDvUigLe5h"
   },
   "outputs": [],
   "source": [
    "#保存\n",
    "np.savetxt(\"data/w1.txt\",lay1.weight, delimiter=' ', fmt='%f')\n",
    "np.savetxt(\"data/w2.txt\",lay2.weight, delimiter=' ', fmt='%f')"
   ]
  },
  {
   "cell_type": "code",
   "execution_count": 13,
   "metadata": {
    "colab": {
     "base_uri": "https://localhost:8080/"
    },
    "executionInfo": {
     "elapsed": 751,
     "status": "ok",
     "timestamp": 1608180253511,
     "user": {
      "displayName": "Atsushi Narita",
      "photoUrl": "",
      "userId": "16280443261260851131"
     },
     "user_tz": -540
    },
    "id": "fpnKNqbUOBII",
    "outputId": "3b4ca84a-7927-4139-be68-b5ff2cf413b0"
   },
   "outputs": [
    {
     "name": "stdout",
     "output_type": "stream",
     "text": [
      "Oh, my Gosh\n",
      "w = \n",
      " [[-0.293 -1.143  1.046 ...  0.104  1.934  0.333]\n",
      " [ 0.413 -1.126  1.435 ... -0.249  0.244  0.396]\n",
      " [-0.928 -1.753  0.819 ... -0.607 -0.924 -1.614]\n",
      " ...\n",
      " [ 0.197 -1.26   0.338 ...  0.964  0.125 -0.025]\n",
      " [ 0.529 -1.086 -0.17  ...  1.553 -1.167 -0.828]\n",
      " [ 0.347 -0.249 -2.308 ...  0.606  0.929  0.476]]\n",
      "lay1.weight = \n",
      " [[-0.293 -1.143  1.046 ...  0.104  1.934  0.333]\n",
      " [ 0.413 -1.126  1.435 ... -0.249  0.244  0.396]\n",
      " [-0.928 -1.753  0.819 ... -0.607 -0.924 -1.614]\n",
      " ...\n",
      " [ 0.197 -1.26   0.338 ...  0.964  0.125 -0.025]\n",
      " [ 0.529 -1.086 -0.17  ...  1.553 -1.167 -0.828]\n",
      " [ 0.347 -0.249 -2.308 ...  0.606  0.929  0.476]]\n",
      "[[False False False ... False False False]\n",
      " [False False False ... False False False]\n",
      " [False False False ... False False False]\n",
      " ...\n",
      " [False False False ... False False False]\n",
      " [False False False ...  True False False]\n",
      " [False False False ... False False False]]\n"
     ]
    }
   ],
   "source": [
    "w = np.array(np.loadtxt('data/w1.txt', dtype='float32'))\n",
    "\n",
    "print(\"w = \\n\", w)\n",
    "print(\"lay1.weight = \\n\",lay1.weight)\n",
    "print(w==lay1.weight)\n",
    "\n",
    "\n",
    "if np.all(w==lay1.weight):\n",
    "  print(\"YEAH\")\n",
    "else:\n",
    "  print(\"Oh, my Gosh\")"
   ]
  },
  {
   "cell_type": "code",
   "execution_count": null,
   "metadata": {
    "id": "pAuINYD5BOlD"
   },
   "outputs": [],
   "source": []
  }
 ],
 "metadata": {
  "colab": {
   "collapsed_sections": [],
   "name": "nn_learn.ipynb",
   "provenance": [],
   "toc_visible": true
  },
  "kernelspec": {
   "display_name": "Python 3",
   "language": "python",
   "name": "python3"
  },
  "language_info": {
   "codemirror_mode": {
    "name": "ipython",
    "version": 3
   },
   "file_extension": ".py",
   "mimetype": "text/x-python",
   "name": "python",
   "nbconvert_exporter": "python",
   "pygments_lexer": "ipython3",
   "version": "3.6.9"
  }
 },
 "nbformat": 4,
 "nbformat_minor": 1
}
